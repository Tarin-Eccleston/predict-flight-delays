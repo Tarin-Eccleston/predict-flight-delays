{
 "cells": [
  {
   "cell_type": "code",
   "execution_count": 102,
   "metadata": {},
   "outputs": [],
   "source": [
    "import sklearn\n",
    "from sklearn.tree import DecisionTreeClassifier\n",
    "from sklearn.model_selection import train_test_split\n",
    "from sklearn.metrics import accuracy_score\n",
    "from sklearn.model_selection import GridSearchCV\n",
    "from sklearn.model_selection import cross_val_score\n",
    "from sklearn.ensemble import AdaBoostClassifier\n",
    "\n",
    "from sklearn.ensemble import RandomForestClassifier\n",
    "\n",
    "import xgboost as xgb\n",
    "\n",
    "import pandas as pd"
   ]
  },
  {
   "cell_type": "code",
   "execution_count": 119,
   "metadata": {},
   "outputs": [],
   "source": [
    "flights_weather_one_hot_df = pd.read_csv('../data/intermediate/modelling/flights_weather_one_hot.csv')\n",
    "flights_weather_modelling_df = pd.read_csv('../data/intermediate/modelling/flights_weather_modelling.csv')\n",
    "flights_weather_df = pd.read_csv('../data/intermediate/modelling/flights_weather.csv')\n",
    "flight_weather_df = flight_weather_one_hot_df.astype(float)"
   ]
  },
  {
   "cell_type": "code",
   "execution_count": 125,
   "metadata": {},
   "outputs": [
    {
     "data": {
      "text/plain": [
       "INDEX                 int64\n",
       "IS_WEATHER_DELAY      int64\n",
       "temp                float64\n",
       "pressure              int64\n",
       "humidity              int64\n",
       "dew_point           float64\n",
       "clouds                int64\n",
       "visibility            int64\n",
       "wind_speed          float64\n",
       "rainfall_1hr        float64\n",
       "rainfall_3hr        float64\n",
       "snowfall_1hr        float64\n",
       "snowfall_3hr        float64\n",
       "thunderstorm          int64\n",
       "drizzle               int64\n",
       "rain                  int64\n",
       "snow                  int64\n",
       "mist                  int64\n",
       "smoke                 int64\n",
       "haze                  int64\n",
       "dust                  int64\n",
       "fog                   int64\n",
       "sand                  int64\n",
       "ash                   int64\n",
       "squall                int64\n",
       "tornado               int64\n",
       "dtype: object"
      ]
     },
     "execution_count": 125,
     "metadata": {},
     "output_type": "execute_result"
    }
   ],
   "source": [
    "flights_weather_df.dtypes"
   ]
  },
  {
   "cell_type": "markdown",
   "metadata": {},
   "source": [
    "Decision Trees"
   ]
  },
  {
   "cell_type": "code",
   "execution_count": 126,
   "metadata": {},
   "outputs": [
    {
     "name": "stdout",
     "output_type": "stream",
     "text": [
      "Accuracy: [0.55735493 0.58648649 0.53378378 0.58783784 0.56621622 0.57027027\n",
      " 0.57162162 0.57027027 0.60540541 0.61351351]\n"
     ]
    }
   ],
   "source": [
    "X = flights_weather_df.drop([\"INDEX\", \"IS_WEATHER_DELAY\", \"rainfall_1hr\", \"rainfall_3hr\", \"snowfall_1hr\", \"snowfall_3hr\"], axis=1)\n",
    "y = flights_weather_df[\"IS_WEATHER_DELAY\"]\n",
    "\n",
    "# split dataset into training and testing sets\n",
    "# hyperparameters: training and testing split percentage\n",
    "# random state for reproducibility\n",
    "X_train, X_test, y_train, y_test = train_test_split(X, y, test_size=0.2, random_state=1)\n",
    "\n",
    "# create a decision tree model with no stopping conditions\n",
    "model = DecisionTreeClassifier(criterion=\"entropy\")\n",
    "\n",
    "# fit the model to the training data\n",
    "model.fit(X_train, y_train)\n",
    "\n",
    "# make predictions on the testing data\n",
    "y_pred = model.predict(X_test)\n",
    "\n",
    "# calculate the accuracy of the model\n",
    "accuracy = accuracy_score(y_test, y_pred)\n",
    "    \n",
    "# get cross-validation scores\n",
    "cv_scores = cross_val_score(model, X_train, y_train, cv=10)\n",
    "    \n",
    "print(\"Accuracy:\", cv_scores)"
   ]
  },
  {
   "cell_type": "code",
   "execution_count": 73,
   "metadata": {},
   "outputs": [
    {
     "data": {
      "text/plain": [
       "temp                                        float64\n",
       "pressure                                    float64\n",
       "humidity                                    float64\n",
       "dew_point                                   float64\n",
       "clouds                                      float64\n",
       "visibility                                  float64\n",
       "wind_speed                                  float64\n",
       "rainfall_1hr                                float64\n",
       "rainfall_3hr                                float64\n",
       "snowfall_1hr                                float64\n",
       "snowfall_3hr                                float64\n",
       "mist                                        float64\n",
       "smoke                                       float64\n",
       "haze                                        float64\n",
       "dust                                        float64\n",
       "fog                                         float64\n",
       "sand                                        float64\n",
       "ash                                         float64\n",
       "squall                                      float64\n",
       "tornado                                     float64\n",
       "thunderstormthunderstorm                    float64\n",
       "thunderstormthunderstorm with heavy rain    float64\n",
       "thunderstormthunderstorm with light rain    float64\n",
       "thunderstormthunderstorm with rain          float64\n",
       "drizzledrizzle                              float64\n",
       "drizzlelight intensity drizzle              float64\n",
       "drizzleshower drizzle                       float64\n",
       "snowheavy snow                              float64\n",
       "snowlight rain. and snow                    float64\n",
       "snowlight snow                              float64\n",
       "snowsnow                                    float64\n",
       "dtype: object"
      ]
     },
     "execution_count": 73,
     "metadata": {},
     "output_type": "execute_result"
    }
   ],
   "source": [
    "X.dtypes"
   ]
  },
  {
   "cell_type": "code",
   "execution_count": 131,
   "metadata": {},
   "outputs": [
    {
     "name": "stdout",
     "output_type": "stream",
     "text": [
      "Pre-pruned Decision Tree Best Params: {'max_depth': 4, 'min_samples_leaf': 1, 'min_samples_split': 2}\n",
      "Accuracy of Pre-pruned Decision Tree:  0.6095100864553314\n"
     ]
    }
   ],
   "source": [
    "best_params = []\n",
    "\n",
    "# hyperparameters to fine-tune\n",
    "dt_params = {\n",
    "    'max_depth': [2, 4, 6, 8, 10, 20, 30, None], # maximum depth of the tree, can help prevent overfitting\n",
    "    'min_samples_split': [2, 5, 10], # the minimum number of samples required to split a node\n",
    "    'min_samples_leaf': [1, 2, 4] # the minimum number of samples required to be at a leaf node.\n",
    "}\n",
    "\n",
    "X_train, X_test, y_train, y_test = train_test_split(X, y, test_size=0.3, random_state=1)\n",
    "\n",
    "model = DecisionTreeClassifier(criterion=\"entropy\")\n",
    "\n",
    "# hyperparameter tuning\n",
    "dt_grid = GridSearchCV(DecisionTreeClassifier(random_state=1, criterion=\"entropy\"), dt_params, cv=10)\n",
    "\n",
    "# Train the fine-tuned models\n",
    "dt_grid.fit(X_train, y_train)\n",
    "\n",
    "# get the best models \n",
    "dt_best = dt_grid.best_estimator_\n",
    "print(\"Pre-pruned Decision Tree Best Params: \" + str(dt_grid.best_params_))\n",
    "    \n",
    "# evaluate the model\n",
    "# make predictions on the testing data\n",
    "y_pred = dt_best.predict(X_test)\n",
    "\n",
    "# calculate the accuracy of the model\n",
    "accuracy = accuracy_score(y_test, y_pred)\n",
    "print(\"Accuracy of Pre-pruned Decision Tree: \", accuracy)"
   ]
  },
  {
   "cell_type": "markdown",
   "metadata": {},
   "source": [
    "Random Forests"
   ]
  },
  {
   "cell_type": "code",
   "execution_count": 128,
   "metadata": {},
   "outputs": [
    {
     "name": "stdout",
     "output_type": "stream",
     "text": [
      "Accuracy: 63.21%\n"
     ]
    }
   ],
   "source": [
    "X_train, X_test, y_train, y_test = train_test_split(X, y, test_size=0.2, random_state=0)\n",
    "\n",
    "rf = RandomForestClassifier(n_estimators=100, random_state=0)\n",
    "\n",
    "rf.fit(X_train, y_train)\n",
    "\n",
    "y_pred = rf.predict(X_test)\n",
    "\n",
    "accuracy = accuracy_score(y_test, y_pred)\n",
    "print(\"Accuracy: {:.2f}%\".format(accuracy * 100))"
   ]
  },
  {
   "cell_type": "markdown",
   "metadata": {},
   "source": [
    "Adaboost"
   ]
  },
  {
   "cell_type": "code",
   "execution_count": 129,
   "metadata": {},
   "outputs": [
    {
     "name": "stdout",
     "output_type": "stream",
     "text": [
      "Accuracy: 62.72%\n"
     ]
    }
   ],
   "source": [
    "# Define the base classifier for AdaBoost\n",
    "base_clf = DecisionTreeClassifier(max_depth=1, random_state=42)\n",
    "\n",
    "# Define the AdaBoost classifier and set hyperparameters\n",
    "ada_clf = AdaBoostClassifier(base_estimator=base_clf, n_estimators=100, learning_rate=0.1, random_state=42)\n",
    "\n",
    "# Train the AdaBoost classifier on the training data\n",
    "ada_clf.fit(X_train, y_train)\n",
    "\n",
    "# Predict the labels of the test data using the trained AdaBoost classifier\n",
    "y_pred = ada_clf.predict(X_test)\n",
    "\n",
    "# Evaluate the performance of the AdaBoost classifier using accuracy and ROC AUC score\n",
    "accuracy = accuracy_score(y_test, y_pred)\n",
    "print(\"Accuracy: {:.2f}%\".format(accuracy*100))"
   ]
  },
  {
   "cell_type": "code",
   "execution_count": null,
   "metadata": {},
   "outputs": [],
   "source": [
    "XGBoost"
   ]
  },
  {
   "cell_type": "code",
   "execution_count": 132,
   "metadata": {},
   "outputs": [
    {
     "name": "stdout",
     "output_type": "stream",
     "text": [
      "Accuracy: 63.80%\n"
     ]
    }
   ],
   "source": [
    "# Define the XGBoost classifier and set hyperparameters\n",
    "xgb_clf = xgb.XGBClassifier(n_estimators=100, learning_rate=0.1, max_depth=3, random_state=100)\n",
    "\n",
    "# Train the XGBoost classifier on the training data\n",
    "xgb_clf.fit(X_train, y_train)\n",
    "\n",
    "# Predict the labels of the test data using the trained XGBoost classifier\n",
    "y_pred = xgb_clf.predict(X_test)\n",
    "\n",
    "# Evaluate the performance of the XGBoost classifier using accuracy and ROC AUC score\n",
    "accuracy = accuracy_score(y_test, y_pred)\n",
    "print(\"Accuracy: {:.2f}%\".format(accuracy*100))"
   ]
  },
  {
   "cell_type": "code",
   "execution_count": 124,
   "metadata": {},
   "outputs": [
    {
     "data": {
      "text/plain": [
       "<AxesSubplot:title={'center':'Feature importance'}, xlabel='F score', ylabel='Features'>"
      ]
     },
     "execution_count": 124,
     "metadata": {},
     "output_type": "execute_result"
    },
    {
     "data": {
      "image/png": "[encoded data removed]",
      "text/plain": [
       "<Figure size 640x480 with 1 Axes>"
      ]
     },
     "metadata": {},
     "output_type": "display_data"
    }
   ],
   "source": [
    "xgb.plot_importance(xgb_clf)"
   ]
  },
  {
   "cell_type": "code",
   "execution_count": null,
   "metadata": {},
   "outputs": [],
   "source": []
  }
 ],
 "metadata": {
  "kernelspec": {
   "display_name": "Python 3 (ipykernel)",
   "language": "python",
   "name": "python3"
  },
  "language_info": {
   "codemirror_mode": {
    "name": "ipython",
    "version": 3
   },
   "file_extension": ".py",
   "mimetype": "text/x-python",
   "name": "python",
   "nbconvert_exporter": "python",
   "pygments_lexer": "ipython3",
   "version": "3.9.13"
  }
 },
 "nbformat": 4,
 "nbformat_minor": 2
}
