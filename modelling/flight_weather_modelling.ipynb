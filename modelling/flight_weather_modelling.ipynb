{
 "cells": [
  {
   "cell_type": "code",
   "execution_count": 25,
   "metadata": {},
   "outputs": [],
   "source": [
    "import sklearn\n",
    "from sklearn.tree import DecisionTreeClassifier\n",
    "from sklearn.model_selection import train_test_split\n",
    "from sklearn.metrics import accuracy_score, f1_score\n",
    "from sklearn.model_selection import GridSearchCV\n",
    "from sklearn.model_selection import cross_val_score\n",
    "from sklearn.ensemble import AdaBoostClassifier\n",
    "from sklearn.ensemble import RandomForestClassifier\n",
    "from sklearn.metrics import classification_report, confusion_matrix\n",
    "from sklearn.preprocessing import MinMaxScaler\n",
    "from sklearn import preprocessing\n",
    "from sklearn.model_selection import RepeatedStratifiedKFold\n",
    "\n",
    "from imblearn.pipeline import Pipeline\n",
    "\n",
    "import xgboost as xgb\n",
    "\n",
    "import pandas as pd"
   ]
  },
  {
   "cell_type": "code",
   "execution_count": 18,
   "metadata": {},
   "outputs": [],
   "source": [
    "k_folds = 10\n",
    "rs = 0"
   ]
  },
  {
   "cell_type": "code",
   "execution_count": 19,
   "metadata": {},
   "outputs": [],
   "source": [
    "flights_weather_df = pd.read_csv('../data/intermediate/modelling/flights_weather_modelling.csv')\n",
    "flights_weather_df = flights_weather_df.astype(float)\n",
    "flights_weather_df = flights_weather_df.fillna(0)"
   ]
  },
  {
   "cell_type": "code",
   "execution_count": 20,
   "metadata": {},
   "outputs": [],
   "source": [
    "X = flights_weather_df.drop(columns=['INDEX', 'IS_WEATHER_DELAY'])\n",
    "y = flights_weather_df[\"IS_WEATHER_DELAY\"]"
   ]
  },
  {
   "cell_type": "code",
   "execution_count": 21,
   "metadata": {},
   "outputs": [],
   "source": [
    "X_train, X_test, y_train, y_test = train_test_split(X, y, test_size=0.3, random_state=rs)"
   ]
  },
  {
   "cell_type": "markdown",
   "metadata": {},
   "source": [
    "### Decision Trees"
   ]
  },
  {
   "cell_type": "code",
   "execution_count": 29,
   "metadata": {},
   "outputs": [
    {
     "name": "stdout",
     "output_type": "stream",
     "text": [
      "Pre-pruned Decision Tree Best Params: {'classifier__max_depth': 4, 'classifier__min_samples_leaf': 1, 'classifier__min_samples_split': 2}\n",
      "Accuracy: 76.33%\n",
      "F1 Score: 75.60%\n"
     ]
    }
   ],
   "source": [
    "params = {\n",
    "    'classifier__max_depth': [2, 4, 6, 8, 10, 20, 30, None],\n",
    "    'classifier__min_samples_split': [2, 5, 10],\n",
    "    'classifier__min_samples_leaf': [1, 2, 4]\n",
    "}\n",
    "\n",
    "# insure no information leaking between train and validation sets by using pipeline\n",
    "pipeline = Pipeline([\n",
    "    ('scaler', MinMaxScaler(feature_range=(-1, 1))),  # normalization\n",
    "    ('classifier', DecisionTreeClassifier(criterion='entropy'))\n",
    "])\n",
    "\n",
    "dt_grid_search = GridSearchCV(pipeline, param_grid=params, cv=k_folds)\n",
    "dt_grid_search.fit(X_train, y_train)\n",
    "\n",
    "dt_best = dt_grid_search.best_estimator_\n",
    "print(\"Pre-pruned Decision Tree Best Params: \" + str(dt_grid_search.best_params_))\n",
    "    \n",
    "# evaluate the model\n",
    "df_y_pred = dt_best.predict(X_test)\n",
    "accuracy = accuracy_score(y_test, df_y_pred)\n",
    "f1 = f1_score(y_test, df_y_pred)\n",
    "\n",
    "print(\"Accuracy: {:.2f}%\".format(accuracy*100))\n",
    "print(\"F1 Score: {:.2f}%\".format(f1*100))"
   ]
  },
  {
   "cell_type": "code",
   "execution_count": 9,
   "metadata": {},
   "outputs": [
    {
     "name": "stdout",
     "output_type": "stream",
     "text": [
      "          Predicted 0  Predicted 1\n",
      "Actual 0          119           45\n",
      "Actual 1           26          110\n"
     ]
    }
   ],
   "source": [
    "cm = confusion_matrix(y_test, df_y_pred)\n",
    "\n",
    "df_cm = pd.DataFrame(cm, index=['Actual 0', 'Actual 1'], columns=['Predicted 0', 'Predicted 1'])\n",
    "print(df_cm)"
   ]
  },
  {
   "cell_type": "markdown",
   "metadata": {},
   "source": [
    "### Random Forests"
   ]
  },
  {
   "cell_type": "code",
   "execution_count": 28,
   "metadata": {},
   "outputs": [
    {
     "name": "stdout",
     "output_type": "stream",
     "text": [
      "Random Forest Best Params: {'classifier__max_depth': 10, 'classifier__min_samples_leaf': 1, 'classifier__min_samples_split': 2, 'classifier__n_estimators': 200}\n",
      "Accuracy: 81.00%\n",
      "F1 Score: 80.41%\n"
     ]
    }
   ],
   "source": [
    "params = {\n",
    "    'classifier__n_estimators': [100, 200],  # Number of trees in the forest\n",
    "    'classifier__max_depth': [None, 5, 10],  # Maximum depth of each tree\n",
    "    'classifier__min_samples_split': [2, 5, 10],  # Minimum number of samples required to split a node\n",
    "    'classifier__min_samples_leaf': [1, 2, 4]  # Minimum number of samples required to be at a leaf node\n",
    "}\n",
    "\n",
    "\n",
    "pipeline = Pipeline([\n",
    "    ('scaler', MinMaxScaler(feature_range=(-1, 1))), # normalization\n",
    "    ('classifier', RandomForestClassifier())\n",
    "])\n",
    "\n",
    "rf_grid_search = GridSearchCV(pipeline, param_grid=params, cv=k_folds)\n",
    "rf_grid_search.fit(X_train, y_train)\n",
    "\n",
    "rf_best = rf_grid_search.best_estimator_\n",
    "print(\"Random Forest Best Params:\", rf_grid_search.best_params_)\n",
    "\n",
    "# evaluate the model\n",
    "rf_y_pred = rf_best.predict(X_test)\n",
    "accuracy = accuracy_score(y_test, rf_y_pred)\n",
    "f1 = f1_score(y_test, rf_y_pred)\n",
    "\n",
    "print(\"Accuracy: {:.2f}%\".format(accuracy*100))\n",
    "print(\"F1 Score: {:.2f}%\".format(f1*100))"
   ]
  },
  {
   "cell_type": "code",
   "execution_count": 11,
   "metadata": {},
   "outputs": [
    {
     "name": "stdout",
     "output_type": "stream",
     "text": [
      "          Predicted 0  Predicted 1\n",
      "Actual 0          124           40\n",
      "Actual 1           22          114\n"
     ]
    }
   ],
   "source": [
    "cm = confusion_matrix(y_test, rf_y_pred)\n",
    "\n",
    "rf_cm = pd.DataFrame(cm, index=['Actual 0', 'Actual 1'], columns=['Predicted 0', 'Predicted 1'])\n",
    "print(rf_cm)"
   ]
  },
  {
   "cell_type": "markdown",
   "metadata": {},
   "source": [
    "### Adaboost"
   ]
  },
  {
   "cell_type": "code",
   "execution_count": 12,
   "metadata": {},
   "outputs": [
    {
     "name": "stdout",
     "output_type": "stream",
     "text": [
      "AdaBoost Best Params: {'classifier__base_estimator__max_depth': 5, 'classifier__learning_rate': 0.1, 'classifier__n_estimators': 100}\n",
      "Accuracy: 75.67%\n"
     ]
    }
   ],
   "source": [
    "params = {\n",
    "    'classifier__n_estimators': [100, 300],  # Number of estimators (trees)\n",
    "    'classifier__learning_rate': [0.1, 1.0],  # Learning rate\n",
    "    'classifier__base_estimator__max_depth': [2, 5],  # Maximum depth of each base estimator (decision tree)\n",
    "}\n",
    "\n",
    "pipeline = Pipeline([\n",
    "    ('scaler', MinMaxScaler(feature_range=(-1, 1))), # normalization\n",
    "    ('classifier', AdaBoostClassifier(base_estimator=DecisionTreeClassifier()))\n",
    "])\n",
    "\n",
    "adaboost_grid_search = GridSearchCV(pipeline, param_grid=params, cv=k_folds)\n",
    "adaboost_grid_search.fit(X_train, y_train)\n",
    "\n",
    "adaboost_best = adaboost_grid_search.best_estimator_\n",
    "print(\"AdaBoost Best Params:\", adaboost_grid_search.best_params_)\n",
    "\n",
    "# evaluate the model\n",
    "adaboost_y_pred = adaboost_best.predict(X_test)\n",
    "accuracy = accuracy_score(y_test, adaboost_y_pred)\n",
    "f1 = f1_score(y_test, adaboost_y_pred)\n",
    "\n",
    "print(\"Accuracy: {:.2f}%\".format(accuracy*100))\n",
    "print(\"F1 Score: {:.2f}%\".format(f1*100))"
   ]
  },
  {
   "cell_type": "code",
   "execution_count": 13,
   "metadata": {},
   "outputs": [
    {
     "name": "stdout",
     "output_type": "stream",
     "text": [
      "          Predicted 0  Predicted 1\n",
      "Actual 0          111           53\n",
      "Actual 1           20          116\n"
     ]
    }
   ],
   "source": [
    "cm = confusion_matrix(y_test, adaboost_y_pred)\n",
    "\n",
    "adaboost_cm = pd.DataFrame(cm, index=['Actual 0', 'Actual 1'], columns=['Predicted 0', 'Predicted 1'])\n",
    "print(adaboost_cm)"
   ]
  },
  {
   "cell_type": "markdown",
   "metadata": {},
   "source": [
    "### XGBoost"
   ]
  },
  {
   "cell_type": "code",
   "execution_count": 27,
   "metadata": {},
   "outputs": [
    {
     "name": "stdout",
     "output_type": "stream",
     "text": [
      "XGBoost Best Params: {'classifier__learning_rate': 0.2, 'classifier__max_depth': 3, 'classifier__n_estimators': 100}\n",
      "Accuracy: 78.67%\n",
      "F1 Score: 77.62%\n"
     ]
    }
   ],
   "source": [
    "params = {\n",
    "    'classifier__n_estimators': [50, 100, 200, 300],\n",
    "    'classifier__learning_rate': [0.1, 0.2, 0.3],\n",
    "    'classifier__max_depth': [2, 3, 4, 5]\n",
    "}\n",
    "\n",
    "pipeline = Pipeline([\n",
    "    ('scaler', MinMaxScaler(feature_range=(-1, 1))), # normalization\n",
    "    ('classifier', xgb.XGBClassifier(random_state=rs))\n",
    "])\n",
    "\n",
    "xgboost_grid_search = GridSearchCV(pipeline, params, cv=k_folds, scoring='roc_auc')\n",
    "xgboost_grid_search.fit(X_train, y_train)\n",
    "\n",
    "xgboost_best = xgboost_grid_search.best_estimator_\n",
    "xgboost_best_params = xgboost_grid_search.best_params_\n",
    "print(\"XGBoost Best Params:\", xgboost_grid_search.best_params_)\n",
    "\n",
    "# evaluate the model\n",
    "xgboost_y_pred = xgboost_best.predict(X_test)\n",
    "accuracy = accuracy_score(y_test, xgboost_y_pred)\n",
    "f1 = f1_score(y_test, xgboost_y_pred)\n",
    "\n",
    "print(\"Accuracy: {:.2f}%\".format(accuracy*100))\n",
    "print(\"F1 Score: {:.2f}%\".format(f1*100))"
   ]
  },
  {
   "cell_type": "code",
   "execution_count": 23,
   "metadata": {},
   "outputs": [
    {
     "name": "stdout",
     "output_type": "stream",
     "text": [
      "          Predicted 0  Predicted 1\n",
      "Actual 0          125           39\n",
      "Actual 1           25          111\n"
     ]
    }
   ],
   "source": [
    "cm = confusion_matrix(y_test, xgboost_y_pred)\n",
    "\n",
    "xgboost_cm = pd.DataFrame(cm, index=['Actual 0', 'Actual 1'], columns=['Predicted 0', 'Predicted 1'])\n",
    "print(xgboost_cm)"
   ]
  },
  {
   "cell_type": "markdown",
   "metadata": {},
   "source": [
    "#### Feature Importance Plot"
   ]
  },
  {
   "cell_type": "code",
   "execution_count": 14,
   "metadata": {},
   "outputs": [
    {
     "name": "stdout",
     "output_type": "stream",
     "text": [
      "Accuracy: 75.33%\n"
     ]
    },
    {
     "data": {
      "text/plain": [
       "<AxesSubplot:title={'center':'Feature importance'}, xlabel='F score', ylabel='Features'>"
      ]
     },
     "execution_count": 14,
     "metadata": {},
     "output_type": "execute_result"
    },
    {
     "data": {
      "image/png": "[encoded data removed]",
      "text/plain": [
       "<Figure size 640x480 with 1 Axes>"
      ]
     },
     "metadata": {},
     "output_type": "display_data"
    }
   ],
   "source": [
    "# normalize the training and testing data\n",
    "scaler = MinMaxScaler(feature_range=(-1, 1))\n",
    "X_train_normalized = scaler.fit_transform(X_train)\n",
    "X_test_normalized = scaler.transform(X_test)\n",
    "\n",
    "# reassign column names to normalized dataframes as they somehow were removed\n",
    "X_train_normalized = pd.DataFrame(X_train_normalized, columns=X_train.columns)\n",
    "X_test_normalized = pd.DataFrame(X_test_normalized, columns=X_test.columns)\n",
    "\n",
    "xgboost_model = xgb.XGBClassifier(learning_rate = 0.1, max_depth = 3, n_estimators = 100, random_state=rs)\n",
    "xgboost_model.fit(X_train_normalized, y_train)\n",
    "\n",
    "# evaluate the model\n",
    "xgboost_best_y_pred = xgboost_model.predict(X_test_normalized)\n",
    "accuracy = accuracy_score(y_test, xgboost_best_y_pred)\n",
    "f1 = f1_score(y_test, xgboost_best_y_pred)\n",
    "\n",
    "print(\"Accuracy: {:.2f}%\".format(accuracy*100))\n",
    "print(\"F1 Score: {:.2f}%\".format(f1*100))\n",
    "\n",
    "xgb.plot_importance(xgboost_model)"
   ]
  }
 ],
 "metadata": {
  "kernelspec": {
   "display_name": "Python 3 (ipykernel)",
   "language": "python",
   "name": "python3"
  },
  "language_info": {
   "codemirror_mode": {
    "name": "ipython",
    "version": 3
   },
   "file_extension": ".py",
   "mimetype": "text/x-python",
   "name": "python",
   "nbconvert_exporter": "python",
   "pygments_lexer": "ipython3",
   "version": "3.9.13"
  }
 },
 "nbformat": 4,
 "nbformat_minor": 2
}
