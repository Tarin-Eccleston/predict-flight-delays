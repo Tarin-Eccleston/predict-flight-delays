{
 "cells": [
  {
   "cell_type": "code",
   "execution_count": 3,
   "metadata": {},
   "outputs": [],
   "source": [
    "import sklearn\n",
    "from sklearn.tree import DecisionTreeClassifier\n",
    "from sklearn.model_selection import train_test_split\n",
    "from sklearn.metrics import accuracy_score\n",
    "from sklearn.model_selection import GridSearchCV\n",
    "from sklearn.model_selection import cross_val_score\n",
    "from sklearn.ensemble import AdaBoostClassifier\n",
    "from sklearn.ensemble import RandomForestClassifier\n",
    "from sklearn.metrics import classification_report, confusion_matrix\n",
    "from sklearn.preprocessing import MinMaxScaler\n",
    "from sklearn import preprocessing\n",
    "from sklearn.model_selection import RepeatedStratifiedKFold\n",
    "\n",
    "import torch\n",
    "import torch.nn as nn\n",
    "import torch.optim as optim\n",
    "\n",
    "from imblearn.pipeline import Pipeline\n",
    "\n",
    "import xgboost as xgb\n",
    "\n",
    "import pandas as pd"
   ]
  },
  {
   "cell_type": "code",
   "execution_count": 4,
   "metadata": {},
   "outputs": [],
   "source": [
    "k_folds = 10\n",
    "rs = 0"
   ]
  },
  {
   "cell_type": "code",
   "execution_count": 5,
   "metadata": {},
   "outputs": [],
   "source": [
    "flights_weather_df = pd.read_csv('../data/intermediate/modelling/weather_data_samples_0-999.csv')\n",
    "flights_weather_df = flights_weather_df.astype(float)\n",
    "flights_weather_df = flights_weather_df.fillna(0)"
   ]
  },
  {
   "cell_type": "code",
   "execution_count": 6,
   "metadata": {},
   "outputs": [],
   "source": [
    "X = flights_weather_df.drop(columns=['INDEX', 'IS_WEATHER_DELAY'])\n",
    "y = flights_weather_df[\"IS_WEATHER_DELAY\"]"
   ]
  },
  {
   "cell_type": "code",
   "execution_count": 7,
   "metadata": {},
   "outputs": [],
   "source": [
    "X_train, X_test, y_train, y_test = train_test_split(X, y, test_size=0.3, random_state=rs)"
   ]
  },
  {
   "cell_type": "markdown",
   "metadata": {},
   "source": [
    "### Decision Trees"
   ]
  },
  {
   "cell_type": "code",
   "execution_count": 8,
   "metadata": {},
   "outputs": [
    {
     "name": "stdout",
     "output_type": "stream",
     "text": [
      "Pre-pruned Decision Tree Best Params: {'classifier__max_depth': 4, 'classifier__min_samples_leaf': 1, 'classifier__min_samples_split': 2}\n",
      "Accuracy: 76.33%\n"
     ]
    }
   ],
   "source": [
    "params = {\n",
    "    'classifier__max_depth': [2, 4, 6, 8, 10, 20, 30, None],\n",
    "    'classifier__min_samples_split': [2, 5, 10],\n",
    "    'classifier__min_samples_leaf': [1, 2, 4]\n",
    "}\n",
    "\n",
    "# insure no information leaking between train and validation sets by using pipeline\n",
    "pipeline = Pipeline([\n",
    "    ('scaler', MinMaxScaler(feature_range=(-1, 1))),  # normalization\n",
    "    ('classifier', DecisionTreeClassifier(criterion='entropy'))\n",
    "])\n",
    "\n",
    "dt_grid_search = GridSearchCV(pipeline, param_grid=params, cv=k_folds)\n",
    "dt_grid_search.fit(X_train, y_train)\n",
    "\n",
    "dt_best = dt_grid_search.best_estimator_\n",
    "print(\"Pre-pruned Decision Tree Best Params: \" + str(dt_grid_search.best_params_))\n",
    "    \n",
    "# evaluate the model\n",
    "df_y_pred = dt_best.predict(X_test)\n",
    "accuracy = accuracy_score(y_test, df_y_pred)\n",
    "\n",
    "print(\"Accuracy: {:.2f}%\".format(accuracy * 100))"
   ]
  },
  {
   "cell_type": "code",
   "execution_count": 9,
   "metadata": {},
   "outputs": [
    {
     "name": "stdout",
     "output_type": "stream",
     "text": [
      "          Predicted 0  Predicted 1\n",
      "Actual 0          119           45\n",
      "Actual 1           26          110\n"
     ]
    }
   ],
   "source": [
    "cm = confusion_matrix(y_test, df_y_pred)\n",
    "\n",
    "df_cm = pd.DataFrame(cm, index=['Actual 0', 'Actual 1'], columns=['Predicted 0', 'Predicted 1'])\n",
    "print(df_cm)"
   ]
  },
  {
   "cell_type": "markdown",
   "metadata": {},
   "source": [
    "### Random Forests"
   ]
  },
  {
   "cell_type": "code",
   "execution_count": 10,
   "metadata": {},
   "outputs": [
    {
     "name": "stdout",
     "output_type": "stream",
     "text": [
      "Random Forest Best Params: {'classifier__max_depth': None, 'classifier__min_samples_leaf': 1, 'classifier__min_samples_split': 10, 'classifier__n_estimators': 200}\n",
      "Accuracy: 79.33%\n"
     ]
    }
   ],
   "source": [
    "params = {\n",
    "    'classifier__n_estimators': [100, 200],  # Number of trees in the forest\n",
    "    'classifier__max_depth': [None, 5, 10],  # Maximum depth of each tree\n",
    "    'classifier__min_samples_split': [2, 5, 10],  # Minimum number of samples required to split a node\n",
    "    'classifier__min_samples_leaf': [1, 2, 4]  # Minimum number of samples required to be at a leaf node\n",
    "}\n",
    "\n",
    "\n",
    "pipeline = Pipeline([\n",
    "    ('scaler', MinMaxScaler(feature_range=(-1, 1))), # normalization\n",
    "    ('classifier', RandomForestClassifier())\n",
    "])\n",
    "\n",
    "rf_grid_search = GridSearchCV(pipeline, param_grid=params, cv=k_folds)\n",
    "rf_grid_search.fit(X_train, y_train)\n",
    "\n",
    "rf_best = rf_grid_search.best_estimator_\n",
    "print(\"Random Forest Best Params:\", rf_grid_search.best_params_)\n",
    "\n",
    "# evaluate the model\n",
    "rf_y_pred = rf_best.predict(X_test)\n",
    "accuracy = accuracy_score(y_test, rf_y_pred)\n",
    "\n",
    "print(\"Accuracy: {:.2f}%\".format(accuracy * 100))"
   ]
  },
  {
   "cell_type": "code",
   "execution_count": 11,
   "metadata": {},
   "outputs": [
    {
     "name": "stdout",
     "output_type": "stream",
     "text": [
      "          Predicted 0  Predicted 1\n",
      "Actual 0          124           40\n",
      "Actual 1           22          114\n"
     ]
    }
   ],
   "source": [
    "cm = confusion_matrix(y_test, rf_y_pred)\n",
    "\n",
    "rf_cm = pd.DataFrame(cm, index=['Actual 0', 'Actual 1'], columns=['Predicted 0', 'Predicted 1'])\n",
    "print(rf_cm)"
   ]
  },
  {
   "cell_type": "markdown",
   "metadata": {},
   "source": [
    "### Adaboost"
   ]
  },
  {
   "cell_type": "code",
   "execution_count": 12,
   "metadata": {},
   "outputs": [
    {
     "name": "stdout",
     "output_type": "stream",
     "text": [
      "AdaBoost Best Params: {'classifier__base_estimator__max_depth': 5, 'classifier__learning_rate': 0.1, 'classifier__n_estimators': 100}\n",
      "Accuracy: 75.67%\n"
     ]
    }
   ],
   "source": [
    "params = {\n",
    "    'classifier__n_estimators': [100, 300],  # Number of estimators (trees)\n",
    "    'classifier__learning_rate': [0.1, 1.0],  # Learning rate\n",
    "    'classifier__base_estimator__max_depth': [2, 5],  # Maximum depth of each base estimator (decision tree)\n",
    "}\n",
    "\n",
    "pipeline = Pipeline([\n",
    "    ('scaler', MinMaxScaler(feature_range=(-1, 1))), # normalization\n",
    "    ('classifier', AdaBoostClassifier(base_estimator=DecisionTreeClassifier()))\n",
    "])\n",
    "\n",
    "adaboost_grid_search = GridSearchCV(pipeline, param_grid=params, cv=k_folds)\n",
    "adaboost_grid_search.fit(X_train, y_train)\n",
    "\n",
    "adaboost_best = adaboost_grid_search.best_estimator_\n",
    "print(\"AdaBoost Best Params:\", adaboost_grid_search.best_params_)\n",
    "\n",
    "# evaluate the model\n",
    "adaboost_y_pred = adaboost_best.predict(X_test)\n",
    "accuracy = accuracy_score(y_test, adaboost_y_pred)\n",
    "\n",
    "print(\"Accuracy: {:.2f}%\".format(accuracy * 100))"
   ]
  },
  {
   "cell_type": "code",
   "execution_count": 13,
   "metadata": {},
   "outputs": [
    {
     "name": "stdout",
     "output_type": "stream",
     "text": [
      "          Predicted 0  Predicted 1\n",
      "Actual 0          111           53\n",
      "Actual 1           20          116\n"
     ]
    }
   ],
   "source": [
    "cm = confusion_matrix(y_test, adaboost_y_pred)\n",
    "\n",
    "adaboost_cm = pd.DataFrame(cm, index=['Actual 0', 'Actual 1'], columns=['Predicted 0', 'Predicted 1'])\n",
    "print(adaboost_cm)"
   ]
  },
  {
   "cell_type": "markdown",
   "metadata": {},
   "source": [
    "### XGBoost"
   ]
  },
  {
   "cell_type": "code",
   "execution_count": 14,
   "metadata": {},
   "outputs": [
    {
     "name": "stdout",
     "output_type": "stream",
     "text": [
      "XGBoost Best Params: {'classifier__learning_rate': 0.2, 'classifier__max_depth': 3, 'classifier__n_estimators': 100}\n",
      "Accuracy: 78.67%\n"
     ]
    }
   ],
   "source": [
    "params = {\n",
    "    'classifier__n_estimators': [100, 200, 300],\n",
    "    'classifier__learning_rate': [0.1, 0.2, 0.3],\n",
    "    'classifier__max_depth': [3, 4, 5]\n",
    "}\n",
    "\n",
    "pipeline = Pipeline([\n",
    "    ('scaler', MinMaxScaler(feature_range=(-1, 1))), # normalization\n",
    "    ('classifier', xgb.XGBClassifier(random_state=rs))\n",
    "])\n",
    "\n",
    "xgboost_grid_search = GridSearchCV(pipeline, params, cv=k_folds, scoring='roc_auc')\n",
    "xgboost_grid_search.fit(X_train, y_train)\n",
    "\n",
    "xgboost_best = xgboost_grid_search.best_estimator_\n",
    "xgboost_best_params = xgboost_grid_search.best_params_\n",
    "print(\"XGBoost Best Params:\", xgboost_grid_search.best_params_)\n",
    "\n",
    "# evaluate the model\n",
    "xgboost_y_pred = xgboost_best.predict(X_test)\n",
    "accuracy = accuracy_score(y_test, xgboost_y_pred)\n",
    "\n",
    "print(\"Accuracy: {:.2f}%\".format(accuracy*100))"
   ]
  },
  {
   "cell_type": "code",
   "execution_count": 15,
   "metadata": {},
   "outputs": [
    {
     "name": "stdout",
     "output_type": "stream",
     "text": [
      "          Predicted 0  Predicted 1\n",
      "Actual 0          125           39\n",
      "Actual 1           25          111\n"
     ]
    }
   ],
   "source": [
    "cm = confusion_matrix(y_test, xgboost_y_pred)\n",
    "\n",
    "xgboost_cm = pd.DataFrame(cm, index=['Actual 0', 'Actual 1'], columns=['Predicted 0', 'Predicted 1'])\n",
    "print(xgboost_cm)"
   ]
  },
  {
   "cell_type": "markdown",
   "metadata": {},
   "source": [
    "#### Feature Importance Plot"
   ]
  },
  {
   "cell_type": "code",
   "execution_count": 16,
   "metadata": {},
   "outputs": [
    {
     "ename": "SyntaxError",
     "evalue": "invalid syntax (3661015928.py, line 10)",
     "output_type": "error",
     "traceback": [
      "\u001b[0;36m  File \u001b[0;32m\"/var/folders/qy/p5knypnd54x1dfyxqbs0175r0000gn/T/ipykernel_34621/3661015928.py\"\u001b[0;36m, line \u001b[0;32m10\u001b[0m\n\u001b[0;31m    xgboost_model = xgb.XGBClassifier(learnin g_rate = 0.1, max_depth = 3, n_estimators = 100, random_state=rs)\u001b[0m\n\u001b[0m                                              ^\u001b[0m\n\u001b[0;31mSyntaxError\u001b[0m\u001b[0;31m:\u001b[0m invalid syntax\n"
     ]
    }
   ],
   "source": [
    "# normalize the training and testing data\n",
    "scaler = MinMaxScaler(feature_range=(-1, 1))\n",
    "X_train_normalized = scaler.fit_transform(X_train)\n",
    "X_test_normalized = scaler.transform(X_test)\n",
    "\n",
    "# reassign column names to normalized dataframes as they somehow were removed\n",
    "X_train_normalized = pd.DataFrame(X_train_normalized, columns=X_train.columns)\n",
    "X_test_normalized = pd.DataFrame(X_test_normalized, columns=X_test.columns)\n",
    "\n",
    "xgboost_model = xgb.XGBClassifier(learnin g_rate = 0.1, max_depth = 3, n_estimators = 100, random_state=rs)\n",
    "xgboost_model.fit(X_train_normalized, y_train)\n",
    "\n",
    "# evaluate the model\n",
    "xgboost_best_y_pred = xgboost_model.predict(X_test_normalized)\n",
    "accuracy = accuracy_score(y_test, xgboost_best_y_pred)\n",
    "print(\"Accuracy: {:.2f}%\".format(accuracy * 100))\n",
    "\n",
    "xgb.plot_importance(xgboost_model)"
   ]
  },
  {
   "cell_type": "code",
   "execution_count": 2,
   "metadata": {},
   "outputs": [
    {
     "data": {
      "text/html": [
       "<div style=\"width:100%;\"><div style=\"position:relative;width:100%;height:0;padding-bottom:60%;\"><span style=\"color:#565656\">Make this Notebook Trusted to load map: File -> Trust Notebook</span><iframe srcdoc=\"&lt;!DOCTYPE html&gt;\n",
       "&lt;html&gt;\n",
       "&lt;head&gt;\n",
       "    \n",
       "    &lt;meta http-equiv=&quot;content-type&quot; content=&quot;text/html; charset=UTF-8&quot; /&gt;\n",
       "    \n",
       "        &lt;script&gt;\n",
       "            L_NO_TOUCH = false;\n",
       "            L_DISABLE_3D = false;\n",
       "        &lt;/script&gt;\n",
       "    \n",
       "    &lt;style&gt;html, body {width: 100%;height: 100%;margin: 0;padding: 0;}&lt;/style&gt;\n",
       "    &lt;style&gt;#map {position:absolute;top:0;bottom:0;right:0;left:0;}&lt;/style&gt;\n",
       "    &lt;script src=&quot;https://cdn.jsdelivr.net/npm/leaflet@1.9.3/dist/leaflet.js&quot;&gt;&lt;/script&gt;\n",
       "    &lt;script src=&quot;https://code.jquery.com/jquery-1.12.4.min.js&quot;&gt;&lt;/script&gt;\n",
       "    &lt;script src=&quot;https://cdn.jsdelivr.net/npm/bootstrap@5.2.2/dist/js/bootstrap.bundle.min.js&quot;&gt;&lt;/script&gt;\n",
       "    &lt;script src=&quot;https://cdnjs.cloudflare.com/ajax/libs/Leaflet.awesome-markers/2.0.2/leaflet.awesome-markers.js&quot;&gt;&lt;/script&gt;\n",
       "    &lt;link rel=&quot;stylesheet&quot; href=&quot;https://cdn.jsdelivr.net/npm/leaflet@1.9.3/dist/leaflet.css&quot;/&gt;\n",
       "    &lt;link rel=&quot;stylesheet&quot; href=&quot;https://cdn.jsdelivr.net/npm/bootstrap@5.2.2/dist/css/bootstrap.min.css&quot;/&gt;\n",
       "    &lt;link rel=&quot;stylesheet&quot; href=&quot;https://netdna.bootstrapcdn.com/bootstrap/3.0.0/css/bootstrap.min.css&quot;/&gt;\n",
       "    &lt;link rel=&quot;stylesheet&quot; href=&quot;https://cdn.jsdelivr.net/npm/@fortawesome/fontawesome-free@6.2.0/css/all.min.css&quot;/&gt;\n",
       "    &lt;link rel=&quot;stylesheet&quot; href=&quot;https://cdnjs.cloudflare.com/ajax/libs/Leaflet.awesome-markers/2.0.2/leaflet.awesome-markers.css&quot;/&gt;\n",
       "    &lt;link rel=&quot;stylesheet&quot; href=&quot;https://cdn.jsdelivr.net/gh/python-visualization/folium/folium/templates/leaflet.awesome.rotate.min.css&quot;/&gt;\n",
       "    \n",
       "            &lt;meta name=&quot;viewport&quot; content=&quot;width=device-width,\n",
       "                initial-scale=1.0, maximum-scale=1.0, user-scalable=no&quot; /&gt;\n",
       "            &lt;style&gt;\n",
       "                #map_4564c911e0c2ba50ac4d72bb32192279 {\n",
       "                    position: relative;\n",
       "                    width: 100.0%;\n",
       "                    height: 100.0%;\n",
       "                    left: 0.0%;\n",
       "                    top: 0.0%;\n",
       "                }\n",
       "                .leaflet-container { font-size: 1rem; }\n",
       "            &lt;/style&gt;\n",
       "        \n",
       "&lt;/head&gt;\n",
       "&lt;body&gt;\n",
       "    \n",
       "    \n",
       "            &lt;div class=&quot;folium-map&quot; id=&quot;map_4564c911e0c2ba50ac4d72bb32192279&quot; &gt;&lt;/div&gt;\n",
       "        \n",
       "&lt;/body&gt;\n",
       "&lt;script&gt;\n",
       "    \n",
       "    \n",
       "            var map_4564c911e0c2ba50ac4d72bb32192279 = L.map(\n",
       "                &quot;map_4564c911e0c2ba50ac4d72bb32192279&quot;,\n",
       "                {\n",
       "                    center: [41.9796, -87.90446],\n",
       "                    crs: L.CRS.EPSG3857,\n",
       "                    zoom: 10,\n",
       "                    zoomControl: true,\n",
       "                    preferCanvas: false,\n",
       "                }\n",
       "            );\n",
       "\n",
       "            \n",
       "\n",
       "        \n",
       "    \n",
       "            var tile_layer_f1af997c6a72114c7d1a9712a6a12b48 = L.tileLayer(\n",
       "                &quot;https://{s}.tile.openstreetmap.org/{z}/{x}/{y}.png&quot;,\n",
       "                {&quot;attribution&quot;: &quot;Data by \\u0026copy; \\u003ca target=\\&quot;_blank\\&quot; href=\\&quot;http://openstreetmap.org\\&quot;\\u003eOpenStreetMap\\u003c/a\\u003e, under \\u003ca target=\\&quot;_blank\\&quot; href=\\&quot;http://www.openstreetmap.org/copyright\\&quot;\\u003eODbL\\u003c/a\\u003e.&quot;, &quot;detectRetina&quot;: false, &quot;maxNativeZoom&quot;: 18, &quot;maxZoom&quot;: 18, &quot;minZoom&quot;: 0, &quot;noWrap&quot;: false, &quot;opacity&quot;: 1, &quot;subdomains&quot;: &quot;abc&quot;, &quot;tms&quot;: false}\n",
       "            ).addTo(map_4564c911e0c2ba50ac4d72bb32192279);\n",
       "        \n",
       "    \n",
       "            var marker_5fb2030834b5901c8c922b1580b888b0 = L.marker(\n",
       "                [41.9796, -87.90446],\n",
       "                {}\n",
       "            ).addTo(map_4564c911e0c2ba50ac4d72bb32192279);\n",
       "        \n",
       "    \n",
       "        var popup_5a03ee577ec0c3a9c32cf420e384440d = L.popup({&quot;maxWidth&quot;: &quot;100%&quot;});\n",
       "\n",
       "        \n",
       "            \n",
       "                var html_95d20c4c8c4f069dccdc7b90d508c6c6 = $(`&lt;div id=&quot;html_95d20c4c8c4f069dccdc7b90d508c6c6&quot; style=&quot;width: 100.0%; height: 100.0%;&quot;&gt;Origin&lt;/div&gt;`)[0];\n",
       "                popup_5a03ee577ec0c3a9c32cf420e384440d.setContent(html_95d20c4c8c4f069dccdc7b90d508c6c6);\n",
       "            \n",
       "        \n",
       "\n",
       "        marker_5fb2030834b5901c8c922b1580b888b0.bindPopup(popup_5a03ee577ec0c3a9c32cf420e384440d)\n",
       "        ;\n",
       "\n",
       "        \n",
       "    \n",
       "    \n",
       "            var marker_8f5b11a5ace579cf58e863943f6e04cd = L.marker(\n",
       "                [39.87195, -75.24114],\n",
       "                {}\n",
       "            ).addTo(map_4564c911e0c2ba50ac4d72bb32192279);\n",
       "        \n",
       "    \n",
       "        var popup_db5a81118e37608efd2240513853b3d1 = L.popup({&quot;maxWidth&quot;: &quot;100%&quot;});\n",
       "\n",
       "        \n",
       "            \n",
       "                var html_674257023f1a68a5a851d0413c9e0ba0 = $(`&lt;div id=&quot;html_674257023f1a68a5a851d0413c9e0ba0&quot; style=&quot;width: 100.0%; height: 100.0%;&quot;&gt;Destination&lt;/div&gt;`)[0];\n",
       "                popup_db5a81118e37608efd2240513853b3d1.setContent(html_674257023f1a68a5a851d0413c9e0ba0);\n",
       "            \n",
       "        \n",
       "\n",
       "        marker_8f5b11a5ace579cf58e863943f6e04cd.bindPopup(popup_db5a81118e37608efd2240513853b3d1)\n",
       "        ;\n",
       "\n",
       "        \n",
       "    \n",
       "    \n",
       "            var marker_de5b9f9e4c1e9c4af9d1a9716940d6d5 = L.marker(\n",
       "                [41.88124, -87.31619],\n",
       "                {}\n",
       "            ).addTo(map_4564c911e0c2ba50ac4d72bb32192279);\n",
       "        \n",
       "    \n",
       "        var popup_1f529c5d152faecb5ae174383ec8de7b = L.popup({&quot;maxWidth&quot;: &quot;100%&quot;});\n",
       "\n",
       "        \n",
       "            \n",
       "                var html_d38e87b2629e977ae4b6062744fdfc50 = $(`&lt;div id=&quot;html_d38e87b2629e977ae4b6062744fdfc50&quot; style=&quot;width: 100.0%; height: 100.0%;&quot;&gt;50KM&lt;/div&gt;`)[0];\n",
       "                popup_1f529c5d152faecb5ae174383ec8de7b.setContent(html_d38e87b2629e977ae4b6062744fdfc50);\n",
       "            \n",
       "        \n",
       "\n",
       "        marker_de5b9f9e4c1e9c4af9d1a9716940d6d5.bindPopup(popup_1f529c5d152faecb5ae174383ec8de7b)\n",
       "        ;\n",
       "\n",
       "        \n",
       "    \n",
       "    \n",
       "            var marker_fdb57bdc82a774ce0b72e7bb6c857cd6 = L.marker(\n",
       "                [41.77987, -86.72974],\n",
       "                {}\n",
       "            ).addTo(map_4564c911e0c2ba50ac4d72bb32192279);\n",
       "        \n",
       "    \n",
       "        var popup_13381c0e82df7cd48cfb82592368e385 = L.popup({&quot;maxWidth&quot;: &quot;100%&quot;});\n",
       "\n",
       "        \n",
       "            \n",
       "                var html_7a8e1d2abf920dea2ccf08818c6ec076 = $(`&lt;div id=&quot;html_7a8e1d2abf920dea2ccf08818c6ec076&quot; style=&quot;width: 100.0%; height: 100.0%;&quot;&gt;100KM&lt;/div&gt;`)[0];\n",
       "                popup_13381c0e82df7cd48cfb82592368e385.setContent(html_7a8e1d2abf920dea2ccf08818c6ec076);\n",
       "            \n",
       "        \n",
       "\n",
       "        marker_fdb57bdc82a774ce0b72e7bb6c857cd6.bindPopup(popup_13381c0e82df7cd48cfb82592368e385)\n",
       "        ;\n",
       "\n",
       "        \n",
       "    \n",
       "&lt;/script&gt;\n",
       "&lt;/html&gt;\" style=\"position:absolute;width:100%;height:100%;left:0;top:0;border:none !important;\" allowfullscreen webkitallowfullscreen mozallowfullscreen></iframe></div></div>"
      ],
      "text/plain": [
       "<folium.folium.Map at 0x7fd4e95d1700>"
      ]
     },
     "execution_count": 2,
     "metadata": {},
     "output_type": "execute_result"
    }
   ],
   "source": [
    "import folium\n",
    "import pandas as pd\n",
    "\n",
    "# Create a dataframe with the coordinates\n",
    "data = {\n",
    "    'latitude': [41.9796, 39.87195, 41.88124, 41.77987],\n",
    "    'longitude': [-87.90446, -75.24114, -87.31619, -86.72974],\n",
    "    'label': ['Origin', 'Destination', '50KM', '100KM']\n",
    "}\n",
    "df = pd.DataFrame(data)\n",
    "\n",
    "# Create a map centered at the origin coordinates\n",
    "m = folium.Map(location=[df['latitude'][0], df['longitude'][0]], zoom_start=10)\n",
    "\n",
    "# Add markers for each coordinate\n",
    "for i, row in df.iterrows():\n",
    "    folium.Marker(\n",
    "        location=[row['latitude'], row['longitude']],\n",
    "        popup=row['label']\n",
    "    ).add_to(m)\n",
    "\n",
    "# Display the map\n",
    "m"
   ]
  }
 ],
 "metadata": {
  "kernelspec": {
   "display_name": "Python 3 (ipykernel)",
   "language": "python",
   "name": "python3"
  },
  "language_info": {
   "codemirror_mode": {
    "name": "ipython",
    "version": 3
   },
   "file_extension": ".py",
   "mimetype": "text/x-python",
   "name": "python",
   "nbconvert_exporter": "python",
   "pygments_lexer": "ipython3",
   "version": "3.9.13"
  }
 },
 "nbformat": 4,
 "nbformat_minor": 2
}
